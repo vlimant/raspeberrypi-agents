{
 "cells": [
  {
   "cell_type": "code",
   "execution_count": 7,
   "metadata": {
    "collapsed": false
   },
   "outputs": [],
   "source": [
    "from dbschema import Agents,Workload\n",
    "from dbsession import get_session\n",
    "session = get_session()"
   ]
  },
  {
   "cell_type": "code",
   "execution_count": 3,
   "metadata": {
    "collapsed": false
   },
   "outputs": [
    {
     "data": {
      "text/plain": [
       "[<dbschema.Agents at 0x71814050>,\n",
       " <dbschema.Agents at 0x71814430>,\n",
       " <dbschema.Agents at 0x71814410>,\n",
       " <dbschema.Agents at 0x71814470>,\n",
       " <dbschema.Agents at 0x718144b0>]"
      ]
     },
     "execution_count": 3,
     "metadata": {},
     "output_type": "execute_result"
    }
   ],
   "source": [
    "get_session().query(Agents).all()"
   ]
  },
  {
   "cell_type": "code",
   "execution_count": 5,
   "metadata": {
    "collapsed": false
   },
   "outputs": [
    {
     "data": {
      "text/plain": [
       "[<dbschema.Workload at 0x71814fb0>]"
      ]
     },
     "execution_count": 5,
     "metadata": {},
     "output_type": "execute_result"
    }
   ],
   "source": [
    "get_session().query(Workload).all()"
   ]
  },
  {
   "cell_type": "code",
   "execution_count": 8,
   "metadata": {
    "collapsed": false
   },
   "outputs": [],
   "source": [
    "for wl in session.query(Workload).all():\n",
    "    session.delete( wl )\n",
    "session.commit()"
   ]
  },
  {
   "cell_type": "code",
   "execution_count": 18,
   "metadata": {
    "collapsed": true
   },
   "outputs": [],
   "source": [
    "#new_agent = Agents(name='jr-raspberrypi-1', ip='128.141.252.248')\n",
    "#session.add( new_agent)\n",
    "#session.commit()"
   ]
  },
  {
   "cell_type": "markdown",
   "metadata": {},
   "source": [
    "define the mapping of the agent"
   ]
  },
  {
   "cell_type": "code",
   "execution_count": 5,
   "metadata": {
    "collapsed": true
   },
   "outputs": [],
   "source": [
    "names = {\n",
    "    'jr-raspberrypi-1':'128.141.252.248',\n",
    "'jr-raspberrypi-2':'128.141.252.23',\n",
    "'jr-raspberrypi-3':'128.141.252.222',\n",
    "'jr-raspberrypi-4':'128.141.252.66',\n",
    "'jr-raspberrypi-5':'128.141.252.95'    \n",
    "}"
   ]
  },
  {
   "cell_type": "markdown",
   "metadata": {},
   "source": [
    "insert the agent of update the information when applicable"
   ]
  },
  {
   "cell_type": "code",
   "execution_count": 6,
   "metadata": {
    "collapsed": false
   },
   "outputs": [
    {
     "name": "stdout",
     "output_type": "stream",
     "text": [
      "jr-raspberrypi-3 128.141.252.222\n",
      "0\n",
      "jr-raspberrypi-2 128.141.252.23\n",
      "0\n",
      "jr-raspberrypi-1 128.141.252.248\n",
      "0\n",
      "jr-raspberrypi-5 128.141.252.95\n",
      "0\n",
      "jr-raspberrypi-4 128.141.252.66\n",
      "0\n"
     ]
    }
   ],
   "source": [
    "for name,ip in names.items():\n",
    "    print name,ip\n",
    "    search = session.query(Agents).filter(Agents.name == name).all()\n",
    "    print len(search)\n",
    "    if len(search)!=0:\n",
    "        #we cannot add the agent\n",
    "        for agent in search:\n",
    "            agent.ip = ip\n",
    "    else:\n",
    "        new_agent = Agents(name=name, ip=ip)\n",
    "        session.add( new_agent)\n",
    "session.commit()"
   ]
  },
  {
   "cell_type": "markdown",
   "metadata": {},
   "source": [
    "print content of the database"
   ]
  },
  {
   "cell_type": "code",
   "execution_count": 3,
   "metadata": {
    "collapsed": false
   },
   "outputs": [
    {
     "name": "stdout",
     "output_type": "stream",
     "text": [
      "jr-raspberrypi-3 128.141.252.222 1\n",
      "jr-raspberrypi-2 128.141.252.23 2\n",
      "jr-raspberrypi-1 128.141.252.248 3\n",
      "jr-raspberrypi-5 128.141.252.95 4\n",
      "jr-raspberrypi-4 128.141.252.66 5\n",
      "Bond 007 6\n",
      "Evan 007 7\n",
      "Ginger 0088 8\n",
      "anothe 45 9\n",
      "michael Jackson 2 10\n",
      "nhgdjh 1.4.6.9 11\n",
      "toto 43.4.5.6 12\n",
      "anyagent 2.5.2.8 13\n"
     ]
    }
   ],
   "source": [
    "agents = session.query(Agents).all()\n",
    "for agent in agents:\n",
    "    print agent.name,agent.ip,agent.id\n"
   ]
  },
  {
   "cell_type": "markdown",
   "metadata": {
    "collapsed": true
   },
   "source": [
    "delete all in the database"
   ]
  },
  {
   "cell_type": "code",
   "execution_count": 16,
   "metadata": {
    "collapsed": true
   },
   "outputs": [],
   "source": [
    "for agent in session.query(Agents).all():\n",
    "    session.delete( agent )\n",
    "session.commit()"
   ]
  },
  {
   "cell_type": "code",
   "execution_count": 9,
   "metadata": {
    "collapsed": false
   },
   "outputs": [],
   "source": []
  },
  {
   "cell_type": "code",
   "execution_count": null,
   "metadata": {
    "collapsed": true
   },
   "outputs": [],
   "source": []
  }
 ],
 "metadata": {
  "kernelspec": {
   "display_name": "Python 2",
   "language": "python",
   "name": "python2"
  },
  "language_info": {
   "codemirror_mode": {
    "name": "ipython",
    "version": 2
   },
   "file_extension": ".py",
   "mimetype": "text/x-python",
   "name": "python",
   "nbconvert_exporter": "python",
   "pygments_lexer": "ipython2",
   "version": "2.7.9"
  }
 },
 "nbformat": 4,
 "nbformat_minor": 0
}
